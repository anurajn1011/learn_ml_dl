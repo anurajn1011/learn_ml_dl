{
 "cells": [
  {
   "cell_type": "markdown",
   "id": "7bd2fc28-9772-49d4-a2b5-b486e9a2db76",
   "metadata": {},
   "source": [
    "$\\textbf{Initial Project -- Learning Basics}$"
   ]
  },
  {
   "cell_type": "markdown",
   "id": "4c5e4b14-9168-4919-a414-5fd5f741c970",
   "metadata": {},
   "source": [
    "$\\textit{Some Notes...}$\n",
    "\n",
    "Miscellaneous: Data pipelines refer to a sequence of data processing components. \n",
    "\n",
    "Common Performance Measures: \n",
    " - Root Mean Square Error (RMSE): measure of the error under the $l_2$ norm.\n",
    " - Mean Absolute Error (MAE): measure of the error under the $l_1$ norm.\n",
    "\n",
    "The higher the norm is, the more sensitive it is to outliers being present in the dataset.\n",
    "\n",
    "We are going to analyze the Housing dataset from Kaggle as provided by this link: https://www.kaggle.com/code/ahmedmahmoud16/california-housing-prices"
   ]
  },
  {
   "cell_type": "code",
   "execution_count": 6,
   "id": "8b6b9e2d-2e33-429b-b8ae-49f41925f090",
   "metadata": {},
   "outputs": [],
   "source": [
    "#code to extract the zip file we have downloaded\n",
    "import os\n",
    "import zipfile \n",
    "\n",
    "currentDirectory = os.getcwd()\n",
    "fileAddress = currentDirectory + \"\\ch02\\housing.csv.zip\"\n",
    "\n",
    "with zipfile.ZipFile(fileAddress, \"r\") as unzip:\n",
    "    unzip.extractall(currentDirectory + \"\\ch02\")"
   ]
  },
  {
   "cell_type": "markdown",
   "id": "ea10bd83-146b-4f55-863b-b04612937f21",
   "metadata": {},
   "source": [
    "We know have the unzipped csv file, so we can examine the datasets structure."
   ]
  },
  {
   "cell_type": "code",
   "execution_count": 1,
   "id": "6ba67415-101b-45a9-a7d1-ef93c5ca4c14",
   "metadata": {},
   "outputs": [
    {
     "ename": "ModuleNotFoundError",
     "evalue": "No module named 'pandas'",
     "output_type": "error",
     "traceback": [
      "\u001b[31m---------------------------------------------------------------------------\u001b[39m",
      "\u001b[31mModuleNotFoundError\u001b[39m                       Traceback (most recent call last)",
      "\u001b[36mCell\u001b[39m\u001b[36m \u001b[39m\u001b[32mIn[1]\u001b[39m\u001b[32m, line 2\u001b[39m\n\u001b[32m      1\u001b[39m \u001b[38;5;66;03m#loading data using pandas method\u001b[39;00m\n\u001b[32m----> \u001b[39m\u001b[32m2\u001b[39m \u001b[38;5;28;01mimport\u001b[39;00m\u001b[38;5;250m \u001b[39m\u001b[34;01mpandas\u001b[39;00m\n\u001b[32m      4\u001b[39m \u001b[38;5;66;03m#the datasets address\u001b[39;00m\n\u001b[32m      5\u001b[39m address = os.getcwd()\n",
      "\u001b[31mModuleNotFoundError\u001b[39m: No module named 'pandas'"
     ]
    }
   ],
   "source": [
    "#loading data using pandas method\n",
    "import pandas\n",
    "\n",
    "#the datasets address\n",
    "address = os.getcwd()\n",
    "print(address)"
   ]
  },
  {
   "cell_type": "code",
   "execution_count": null,
   "id": "5a464c08-ac2c-46e1-9615-ac409eab24bd",
   "metadata": {},
   "outputs": [],
   "source": [
    "!pi"
   ]
  }
 ],
 "metadata": {
  "kernelspec": {
   "display_name": "Python 3 (ipykernel)",
   "language": "python",
   "name": "python3"
  },
  "language_info": {
   "codemirror_mode": {
    "name": "ipython",
    "version": 3
   },
   "file_extension": ".py",
   "mimetype": "text/x-python",
   "name": "python",
   "nbconvert_exporter": "python",
   "pygments_lexer": "ipython3",
   "version": "3.11.4"
  }
 },
 "nbformat": 4,
 "nbformat_minor": 5
}
